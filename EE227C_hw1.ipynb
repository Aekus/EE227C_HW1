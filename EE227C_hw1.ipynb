{
  "nbformat": 4,
  "nbformat_minor": 0,
  "metadata": {
    "colab": {
      "name": "EE227C_hw1",
      "provenance": [],
      "collapsed_sections": []
    },
    "kernelspec": {
      "name": "python3",
      "display_name": "Python 3"
    },
    "language_info": {
      "name": "python"
    }
  },
  "cells": [
    {
      "cell_type": "code",
      "execution_count": null,
      "metadata": {
        "id": "ypLQI-6nnLgs"
      },
      "outputs": [],
      "source": [
        "import numpy as np\n",
        "import matplotlib.pyplot as plt"
      ]
    },
    {
      "cell_type": "markdown",
      "source": [
        "Q1 part a"
      ],
      "metadata": {
        "id": "3SJQr4fQnWSc"
      }
    },
    {
      "cell_type": "code",
      "source": [
        "matrices = []\n",
        "for k in range(5):\n",
        "  true_k = k+1\n",
        "  matrices.append([])\n",
        "  for i in range(10):\n",
        "    true_i = i+1\n",
        "    matrices[k].append([])\n",
        "    for j in range(10):\n",
        "      true_j = j+1\n",
        "      if true_i < true_j:\n",
        "        value = np.exp(true_i/true_j) * np.cos(true_i*true_j) * np.sin(true_k)\n",
        "      elif true_i > true_j:\n",
        "        value = matrices[k][j][i]\n",
        "      else:\n",
        "        value = 0\n",
        "      matrices[k][i].append(value)\n",
        "\n",
        "  for d in range(10):\n",
        "    true_d = d + 1\n",
        "    sum = 0\n",
        "    for l in range(10):\n",
        "      if l != d:\n",
        "        sum += np.abs(matrices[k][d][l])\n",
        "    value = (true_d/10) * np.abs(np.sin(true_k)) + sum\n",
        "    matrices[k][d][d] = value\n",
        "\n",
        "  matrices[k] = np.array(matrices[k])\n",
        "\n",
        "vectors = []\n",
        "for k in range(5):\n",
        "  vectors.append([])\n",
        "  for i in range(10):\n",
        "    true_i = i+1\n",
        "    true_k = k+1\n",
        "    vectors[k].append(np.exp(true_i/true_k) * np.sin(true_i*true_k))"
      ],
      "metadata": {
        "id": "QFrnr0A1nQ0S"
      },
      "execution_count": null,
      "outputs": []
    },
    {
      "cell_type": "code",
      "source": [
        "x1 = np.ones(10)\n",
        "\n",
        "for k in range(5):\n",
        "  print(np.dot(x1, matrices[k] @ x1) - np.dot(x1, vectors[k]))\n"
      ],
      "metadata": {
        "colab": {
          "base_uri": "https://localhost:8080/"
        },
        "id": "eQQM9d8ZvzKn",
        "outputId": "c2eeaec5-5ffe-41c2-9de4-4c9b2a7e10fa"
      },
      "execution_count": null,
      "outputs": [
        {
          "output_type": "stream",
          "name": "stdout",
          "text": [
            "5337.066429311362\n",
            "12.104221222535315\n",
            "29.4798349941795\n",
            "78.82665877069525\n",
            "101.1388127109267\n"
          ]
        }
      ]
    },
    {
      "cell_type": "markdown",
      "source": [
        "Subgradient Method"
      ],
      "metadata": {
        "id": "zDoKmzb6hlc7"
      }
    },
    {
      "cell_type": "code",
      "source": [
        "def pointwise_max_subgradient(functions, matrices, vectors, x):\n",
        "  i = np.argmax([f(x) for f in functions])\n",
        "  gradient = 2 * matrices[i] @ x - vectors[i]\n",
        "  \n",
        "  return gradient"
      ],
      "metadata": {
        "id": "WRl-aUMCh0Ze"
      },
      "execution_count": null,
      "outputs": []
    },
    {
      "cell_type": "code",
      "source": [
        "xs = [np.ones(10)]\n",
        "T = 100000\n",
        "C = 0.005\n",
        "\n",
        "functions = [lambda x, matrices=matrices, vectors=vectors, k=k: np.dot(x, matrices[k] @ x) - np.dot(x, vectors[k]) for k in range(5)]\n",
        "\n",
        "for i in range(1, T):\n",
        "  x_curr = xs[-1]\n",
        "  g = pointwise_max_subgradient(functions, matrices, vectors, x_curr)\n",
        "  x_next = x_curr - C/np.sqrt(i) * g\n",
        "  xs.append(x_next) \n",
        "\n",
        "losses_std = []\n",
        "for x in xs:\n",
        "  losses_std.append(np.max([f(x) for f in functions]))\n",
        "\n",
        "print(\"minimum loss: \", min(losses_std))\n",
        "print(\"minimum index: \", np.argmin(losses_std))\n",
        "print(\"x: \", xs[np.argmin(losses_std)])"
      ],
      "metadata": {
        "colab": {
          "base_uri": "https://localhost:8080/"
        },
        "id": "7C_GBlhzhjlt",
        "outputId": "4957a06c-64f5-4690-df2d-f9dcf02ea3f8"
      },
      "execution_count": null,
      "outputs": [
        {
          "output_type": "stream",
          "name": "stdout",
          "text": [
            "minimum loss:  -0.8412686337442031\n",
            "minimum index:  84764\n",
            "x:  [-0.12630827 -0.03434992 -0.00683659  0.02625605  0.06717221 -0.27857058\n",
            "  0.07446874  0.13815616  0.08451149  0.03914766]\n"
          ]
        }
      ]
    },
    {
      "cell_type": "code",
      "source": [
        "fig = plt.figure(figsize=(9,6))\n",
        "ax = fig.add_subplot(1, 1, 1)\n",
        "ax.plot(np.arange(T), np.array(losses_std) - min(losses_std))\n",
        "ax.set_yscale('log')\n",
        "ax.set_xscale('log')\n",
        "ax.set_ylabel('Suboptimality Gap')\n",
        "ax.set_xlabel('Iteration')\n",
        "ax.set_title('Convergence of Subgradient Descent with $\\\\frac{C}{\\\\sqrt{t}}$ stepsize')\n",
        "plt.show()"
      ],
      "metadata": {
        "colab": {
          "base_uri": "https://localhost:8080/",
          "height": 417
        },
        "id": "k6uk5XtX4Rjf",
        "outputId": "91e3bc37-8757-4e6e-b5f0-89fdac0b1f5c"
      },
      "execution_count": null,
      "outputs": [
        {
          "output_type": "display_data",
          "data": {
            "image/png": "[encoded data removed]",
            "text/plain": [
              "<Figure size 648x432 with 1 Axes>"
            ]
          },
          "metadata": {
            "needs_background": "light"
          }
        }
      ]
    },
    {
      "cell_type": "code",
      "source": [
        "xs = [np.ones(10)]\n",
        "f_star = min(losses_std)\n",
        "C = 0.003\n",
        "\n",
        "for i in range(1, T):\n",
        "  x_curr = xs[-1]\n",
        "  g = pointwise_max_subgradient(functions, matrices, vectors, x_curr)\n",
        "  x_next = x_curr - C*(np.max([f(x_curr) for f in functions]) - f_star)/np.linalg.norm(g) * g\n",
        "  xs.append(x_next) \n",
        "\n",
        "losses_polyak = []\n",
        "for x in xs:\n",
        "  losses_polyak.append(np.max([f(x) for f in functions]))\n",
        "\n",
        "print(\"minimum loss: \", min(losses_polyak))\n",
        "print(\"minimum index: \", np.argmin(losses_polyak))\n",
        "print(\"x: \", xs[np.argmin(losses_polyak)])"
      ],
      "metadata": {
        "colab": {
          "base_uri": "https://localhost:8080/"
        },
        "id": "bKh_Nuc39Rki",
        "outputId": "942f202d-a88a-4801-f491-3647f03b8431"
      },
      "execution_count": null,
      "outputs": [
        {
          "output_type": "stream",
          "name": "stdout",
          "text": [
            "minimum loss:  -0.8396508254049737\n",
            "minimum index:  99985\n",
            "x:  [-0.11684631 -0.03041908 -0.00267528  0.02622158  0.05925091 -0.27796773\n",
            "  0.08195274  0.14446972  0.08217645  0.03607415]\n"
          ]
        }
      ]
    },
    {
      "cell_type": "code",
      "source": [
        "fig = plt.figure(figsize=(9,6))\n",
        "ax = fig.add_subplot(1, 1, 1)\n",
        "ax.plot(np.arange(T), np.array(losses_polyak) - min(losses_std))\n",
        "ax.set_yscale('log')\n",
        "ax.set_xscale('log')\n",
        "ax.set_ylabel('Suboptimality Gap')\n",
        "ax.set_xlabel('Iteration')\n",
        "ax.set_title('Convergence of Subgradient Descent with Polyak stepsize')\n",
        "plt.show()"
      ],
      "metadata": {
        "colab": {
          "base_uri": "https://localhost:8080/",
          "height": 408
        },
        "id": "Lk8yiePiAZGO",
        "outputId": "e596b6b3-a00e-4f10-e4d5-6e27f5a94bad"
      },
      "execution_count": null,
      "outputs": [
        {
          "output_type": "display_data",
          "data": {
            "image/png": "[encoded data removed]",
            "text/plain": [
              "<Figure size 648x432 with 1 Axes>"
            ]
          },
          "metadata": {
            "needs_background": "light"
          }
        }
      ]
    }
  ]
}